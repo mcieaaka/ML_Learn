{
 "cells": [
  {
   "cell_type": "code",
   "execution_count": 3,
   "metadata": {},
   "outputs": [
    {
     "name": "stderr",
     "output_type": "stream",
     "text": [
      "C:\\Users\\HARSHIT\\anaconda3\\lib\\site-packages\\ipykernel_launcher.py:2: DeprecationWarning: scipy.genfromtxt is deprecated and will be removed in SciPy 2.0.0, use numpy.genfromtxt instead\n",
      "  \n"
     ]
    }
   ],
   "source": [
    "import scipy as sp\n",
    "data = sp.genfromtxt(\"Data/web_traffic.tsv\",delimiter=\"\\t\")"
   ]
  },
  {
   "cell_type": "code",
   "execution_count": 5,
   "metadata": {},
   "outputs": [
    {
     "name": "stdout",
     "output_type": "stream",
     "text": [
      "[[1.000e+00 2.272e+03]\n",
      " [2.000e+00       nan]\n",
      " [3.000e+00 1.386e+03]\n",
      " [4.000e+00 1.365e+03]\n",
      " [5.000e+00 1.488e+03]\n",
      " [6.000e+00 1.337e+03]\n",
      " [7.000e+00 1.883e+03]\n",
      " [8.000e+00 2.283e+03]\n",
      " [9.000e+00 1.335e+03]\n",
      " [1.000e+01 1.025e+03]]\n"
     ]
    }
   ],
   "source": [
    "print(data[:10])"
   ]
  },
  {
   "cell_type": "code",
   "execution_count": 3,
   "metadata": {},
   "outputs": [],
   "source": [
    "#We have to specify tab as the delimiter so that the columns are correctly determined.\n",
    "#A quick check shows that we have correctly read in the data."
   ]
  },
  {
   "cell_type": "code",
   "execution_count": 6,
   "metadata": {},
   "outputs": [
    {
     "name": "stdout",
     "output_type": "stream",
     "text": [
      "(743, 2)\n"
     ]
    }
   ],
   "source": [
    "print (data.shape)"
   ]
  },
  {
   "cell_type": "code",
   "execution_count": 5,
   "metadata": {},
   "outputs": [],
   "source": [
    "#Preoprocessing and Cleaning of Data"
   ]
  },
  {
   "cell_type": "code",
   "execution_count": 7,
   "metadata": {},
   "outputs": [],
   "source": [
    "x = data[:,0]\n",
    "y = data[:,1]"
   ]
  },
  {
   "cell_type": "code",
   "execution_count": 8,
   "metadata": {},
   "outputs": [
    {
     "name": "stderr",
     "output_type": "stream",
     "text": [
      "C:\\Users\\HARSHIT\\anaconda3\\lib\\site-packages\\ipykernel_launcher.py:1: DeprecationWarning: scipy.isnan is deprecated and will be removed in SciPy 2.0.0, use numpy.isnan instead\n",
      "  \"\"\"Entry point for launching an IPython kernel.\n",
      "C:\\Users\\HARSHIT\\anaconda3\\lib\\site-packages\\ipykernel_launcher.py:1: DeprecationWarning: scipy.sum is deprecated and will be removed in SciPy 2.0.0, use numpy.sum instead\n",
      "  \"\"\"Entry point for launching an IPython kernel.\n"
     ]
    },
    {
     "data": {
      "text/plain": [
       "8"
      ]
     },
     "execution_count": 8,
     "metadata": {},
     "output_type": "execute_result"
    }
   ],
   "source": [
    "sp.sum(sp.isnan(y))"
   ]
  },
  {
   "cell_type": "code",
   "execution_count": 10,
   "metadata": {},
   "outputs": [
    {
     "name": "stderr",
     "output_type": "stream",
     "text": [
      "C:\\Users\\HARSHIT\\anaconda3\\lib\\site-packages\\ipykernel_launcher.py:2: DeprecationWarning: scipy.isnan is deprecated and will be removed in SciPy 2.0.0, use numpy.isnan instead\n",
      "  \n"
     ]
    }
   ],
   "source": [
    "import numpy as np\n",
    "x= x[~sp.isnan(y)]"
   ]
  },
  {
   "cell_type": "code",
   "execution_count": 12,
   "metadata": {},
   "outputs": [],
   "source": [
    "y = y[~np.isnan(y)]"
   ]
  },
  {
   "cell_type": "code",
   "execution_count": 28,
   "metadata": {},
   "outputs": [
    {
     "data": {
      "image/png": "[encoded data removed]",
      "text/plain": [
       "<Figure size 432x288 with 1 Axes>"
      ]
     },
     "metadata": {
      "needs_background": "light"
     },
     "output_type": "display_data"
    }
   ],
   "source": [
    "#To get a first impression of our data, let us plot the data in a scatter plot using \n",
    "#Matplotlib. Matplotlib contains the pyplot package, which tries to mimic Matlab's \n",
    "#interface—a very convenient and easy-to-use one\n",
    "import matplotlib.pyplot as plt\n",
    "plt.scatter(x,y)\n",
    "plt.title(\"Web traffic over the last month\")\n",
    "plt.xlabel(\"Time\")\n",
    "plt.ylabel(\"Hits/hour\")\n",
    "plt.xticks([w*7*24 for w in range(10)], \n",
    " ['week %i'%w for w in range(10)])\n",
    "plt.autoscale(tight=True)\n",
    "plt.grid()\n",
    "plt.show()"
   ]
  },
  {
   "cell_type": "code",
   "execution_count": 19,
   "metadata": {},
   "outputs": [
    {
     "name": "stderr",
     "output_type": "stream",
     "text": [
      "C:\\Users\\HARSHIT\\anaconda3\\lib\\site-packages\\ipykernel_launcher.py:20: DeprecationWarning: scipy.polyfit is deprecated and will be removed in SciPy 2.0.0, use numpy.polyfit instead\n"
     ]
    }
   ],
   "source": [
    "#When we talk about models, you can think of them as simplified theoretical \n",
    "#approximations of the complex reality. As such there is always some inferiority \n",
    "#involved, also called the approximation error. This error will guide us in choosing \n",
    "#the right model among the myriad of choices we have. This error will be calculated \n",
    "#as the squared distance of the model's prediction to the real data. That is, for a \n",
    "#learned model function, f, the error is calculated as follows:\n",
    "def error(f, x, y):\n",
    "    return sp.sum((f(x)-y)**2)\n",
    "#The vectors x and y contain the web stats data that we have extracted before. It is \n",
    "#the beauty of SciPy's vectorized functions that we exploit here with f(x). The \n",
    "#trained model is assumed to take a vector and return the results again as a vector \n",
    "#of the same size so that we can use it to calculate the difference to y\n",
    "\n",
    "#Starting with a simple straight line\n",
    "#Let us assume for a second that the underlying model is a straight line. The \n",
    "#challenge then is how to best put that line into the chart so that it results in the \n",
    "#smallest approximation error. SciPy's polyfit() function does exactly that. Given \n",
    "#data x and y and the desired order of the polynomial (straight line has order 1), \n",
    "#it finds the model function that minimizes the error function defined earlier.\n",
    "fp1, residuals, rank, sv, rcond = sp.polyfit(x, y, 1, full=True)"
   ]
  },
  {
   "cell_type": "code",
   "execution_count": 20,
   "metadata": {},
   "outputs": [
    {
     "name": "stdout",
     "output_type": "stream",
     "text": [
      "Model parameters: [  2.59619213 989.02487106]\n"
     ]
    }
   ],
   "source": [
    "#The polyfit() function returns the parameters of the fitted model function, \n",
    "#fp1; and by setting full to True, we also get additional background information \n",
    "#on the fitting process. Of it, only residuals are of interest, which is exactly the error \n",
    "#of the approximation\n",
    "print(\"Model parameters: %s\" % fp1)"
   ]
  },
  {
   "cell_type": "code",
   "execution_count": 21,
   "metadata": {
    "scrolled": true
   },
   "outputs": [
    {
     "ename": "NameError",
     "evalue": "name 'res' is not defined",
     "output_type": "error",
     "traceback": [
      "\u001b[1;31m---------------------------------------------------------------------------\u001b[0m",
      "\u001b[1;31mNameError\u001b[0m                                 Traceback (most recent call last)",
      "\u001b[1;32m<ipython-input-21-a90dea80f461>\u001b[0m in \u001b[0;36m<module>\u001b[1;34m\u001b[0m\n\u001b[1;32m----> 1\u001b[1;33m \u001b[0mprint\u001b[0m\u001b[1;33m(\u001b[0m\u001b[0mres\u001b[0m\u001b[1;33m)\u001b[0m\u001b[1;33m\u001b[0m\u001b[1;33m\u001b[0m\u001b[0m\n\u001b[0m",
      "\u001b[1;31mNameError\u001b[0m: name 'res' is not defined"
     ]
    }
   ],
   "source": [
    "print(res)"
   ]
  },
  {
   "cell_type": "code",
   "execution_count": 17,
   "metadata": {},
   "outputs": [
    {
     "ename": "NameError",
     "evalue": "name 'res' is not defined",
     "output_type": "error",
     "traceback": [
      "\u001b[1;31m---------------------------------------------------------------------------\u001b[0m",
      "\u001b[1;31mNameError\u001b[0m                                 Traceback (most recent call last)",
      "\u001b[1;32m<ipython-input-17-a90dea80f461>\u001b[0m in \u001b[0;36m<module>\u001b[1;34m\u001b[0m\n\u001b[1;32m----> 1\u001b[1;33m \u001b[0mprint\u001b[0m\u001b[1;33m(\u001b[0m\u001b[0mres\u001b[0m\u001b[1;33m)\u001b[0m\u001b[1;33m\u001b[0m\u001b[1;33m\u001b[0m\u001b[0m\n\u001b[0m",
      "\u001b[1;31mNameError\u001b[0m: name 'res' is not defined"
     ]
    }
   ],
   "source": [
    "print(res)"
   ]
  },
  {
   "cell_type": "code",
   "execution_count": 24,
   "metadata": {},
   "outputs": [],
   "source": [
    "#This means that the best straight line fit is the following function:\n",
    "#f(x) = 2.59619213 * x + 989.02487106"
   ]
  },
  {
   "cell_type": "code",
   "execution_count": 25,
   "metadata": {},
   "outputs": [],
   "source": [
    "f1 = sp.poly1d(fp1)"
   ]
  },
  {
   "cell_type": "code",
   "execution_count": 26,
   "metadata": {},
   "outputs": [
    {
     "name": "stdout",
     "output_type": "stream",
     "text": [
      "317389767.339778\n"
     ]
    },
    {
     "name": "stderr",
     "output_type": "stream",
     "text": [
      "C:\\Users\\HARSHIT\\anaconda3\\lib\\site-packages\\ipykernel_launcher.py:8: DeprecationWarning: scipy.sum is deprecated and will be removed in SciPy 2.0.0, use numpy.sum instead\n",
      "  \n"
     ]
    }
   ],
   "source": [
    "print(error(f1, x, y))"
   ]
  },
  {
   "cell_type": "code",
   "execution_count": 29,
   "metadata": {},
   "outputs": [
    {
     "name": "stderr",
     "output_type": "stream",
     "text": [
      "C:\\Users\\HARSHIT\\anaconda3\\lib\\site-packages\\ipykernel_launcher.py:3: DeprecationWarning: scipy.linspace is deprecated and will be removed in SciPy 2.0.0, use numpy.linspace instead\n",
      "  This is separate from the ipykernel package so we can avoid doing imports until\n"
     ]
    },
    {
     "data": {
      "text/plain": [
       "<matplotlib.legend.Legend at 0x2053fb0c488>"
      ]
     },
     "execution_count": 29,
     "metadata": {},
     "output_type": "execute_result"
    },
    {
     "data": {
      "image/png": "[encoded data removed]",
      "text/plain": [
       "<Figure size 432x288 with 1 Axes>"
      ]
     },
     "metadata": {
      "needs_background": "light"
     },
     "output_type": "display_data"
    }
   ],
   "source": [
    "#We can now use f1() to plot our first trained model. In addition to the earlier \n",
    "#plotting instructions, we simply add the following:\n",
    "fx = sp.linspace(0,x[-1], 1000) # generate X-values for plotting\n",
    "plt.plot(fx, f1(fx), linewidth=4)\n",
    "plt.legend([\"d=%i\" % f1.order], loc=\"upper left\")"
   ]
  },
  {
   "cell_type": "code",
   "execution_count": null,
   "metadata": {},
   "outputs": [],
   "source": []
  }
 ],
 "metadata": {
  "kernelspec": {
   "display_name": "Python 3",
   "language": "python",
   "name": "python3"
  },
  "language_info": {
   "codemirror_mode": {
    "name": "ipython",
    "version": 3
   },
   "file_extension": ".py",
   "mimetype": "text/x-python",
   "name": "python",
   "nbconvert_exporter": "python",
   "pygments_lexer": "ipython3",
   "version": "3.7.6"
  }
 },
 "nbformat": 4,
 "nbformat_minor": 4
}
